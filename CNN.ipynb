{
  "nbformat": 4,
  "nbformat_minor": 0,
  "metadata": {
    "colab": {
      "name": "Untitled6.ipynb",
      "provenance": [],
      "toc_visible": true
    },
    "kernelspec": {
      "name": "python3",
      "display_name": "Python 3"
    },
    "accelerator": "GPU"
  },
  "cells": [
    {
      "cell_type": "markdown",
      "metadata": {
        "id": "OwGuFIXj3vAH",
        "colab_type": "text"
      },
      "source": [
        "## 0. Import csv and lib"
      ]
    },
    {
      "cell_type": "code",
      "metadata": {
        "id": "Acv2YSzO3uwS",
        "colab_type": "code",
        "colab": {
          "base_uri": "https://localhost:8080/",
          "height": 34
        },
        "outputId": "849f40b9-fe6b-439e-afa3-22d8e2bfd63f"
      },
      "source": [
        "import numpy as np\n",
        "import pandas as pd\n",
        "from sklearn.model_selection import train_test_split\n",
        "import matplotlib.pyplot as plt\n",
        "import matplotlib\n",
        "from collections import  Counter\n",
        "import cv2\n",
        "import tensorflow as tf\n",
        "import time\n",
        "\n",
        "from google.colab import drive\n",
        "drive.mount('/content/drive')\n",
        "\n",
        "# Pls change to your google drive train.csv path\n",
        "df = pd.read_csv('/content/drive/My Drive/COMP5329S1A2Dataset/train.csv')"
      ],
      "execution_count": 2,
      "outputs": [
        {
          "output_type": "stream",
          "text": [
            "Drive already mounted at /content/drive; to attempt to forcibly remount, call drive.mount(\"/content/drive\", force_remount=True).\n"
          ],
          "name": "stdout"
        }
      ]
    },
    {
      "cell_type": "markdown",
      "metadata": {
        "id": "EHx1yBV0LmGE",
        "colab_type": "text"
      },
      "source": [
        "## 1. [This part is reserved for future caption nlp]"
      ]
    },
    {
      "cell_type": "markdown",
      "metadata": {
        "id": "zo97OV9tKaov",
        "colab_type": "text"
      },
      "source": [
        "## 2. Data pre-processing"
      ]
    },
    {
      "cell_type": "markdown",
      "metadata": {
        "id": "0juzfvffKFCu",
        "colab_type": "text"
      },
      "source": [
        "### 2.1. Multi label binary coding"
      ]
    },
    {
      "cell_type": "code",
      "metadata": {
        "id": "YahhxUAr3-nP",
        "colab_type": "code",
        "colab": {
          "base_uri": "https://localhost:8080/",
          "height": 218
        },
        "outputId": "ca2b9398-5ca4-4e77-eaa5-1d5aa08a6791"
      },
      "source": [
        "labels = df['Labels'].tolist()\n",
        "label_combination=[]\n",
        "label_list=[]\n",
        "\n",
        "for label in labels:\n",
        "    num_label=[int(i) for i in label.split()]\n",
        "    label_list.append(sorted(num_label))\n",
        "    sort_label=[str(i)for i in sorted(num_label)]\n",
        "    label_combination.append(' '.join(sort_label))\n",
        "\n",
        "from sklearn.preprocessing import MultiLabelBinarizer\n",
        "mlb = MultiLabelBinarizer()\n",
        "mlb.fit(label_list)\n",
        "y = mlb.transform(label_list)\n",
        "\n",
        "print(y[:5])\n",
        "print()\n",
        "df.Labels.head()"
      ],
      "execution_count": 3,
      "outputs": [
        {
          "output_type": "stream",
          "text": [
            "[[1 0 0 0 0 0 0 0 0 0 0 0 0 0 0 0 0 0]\n",
            " [1 0 0 0 0 0 0 0 0 0 0 0 0 0 0 0 0 1]\n",
            " [1 0 0 0 0 0 0 0 0 0 0 0 0 0 0 0 0 0]\n",
            " [0 0 1 0 0 0 0 1 0 0 0 1 0 0 0 0 0 0]\n",
            " [0 0 1 0 0 0 1 1 0 0 0 0 0 0 0 0 0 0]]\n",
            "\n"
          ],
          "name": "stdout"
        },
        {
          "output_type": "execute_result",
          "data": {
            "text/plain": [
              "0         1\n",
              "1      1 19\n",
              "2         1\n",
              "3    8 3 13\n",
              "4     8 3 7\n",
              "Name: Labels, dtype: object"
            ]
          },
          "metadata": {
            "tags": []
          },
          "execution_count": 3
        }
      ]
    },
    {
      "cell_type": "markdown",
      "metadata": {
        "id": "kztg8tDU2lK9",
        "colab_type": "text"
      },
      "source": [
        "### 2.2. Prepare Train & Validation Data"
      ]
    },
    {
      "cell_type": "code",
      "metadata": {
        "id": "hWjlsg5U2ho9",
        "colab_type": "code",
        "colab": {}
      },
      "source": [
        "h=32\n",
        "w=32\n",
        "file='Train_image_%d_%d'%(h,w)\n",
        "\n",
        "# Pl change below as the npy file path in your google drive\n",
        "DATA_DIR='/content/drive/My Drive/'\n",
        "########################################################################\n",
        "\n",
        "\n",
        "\n",
        "X=np.load(DATA_DIR+file+'.npy',allow_pickle=True)\n",
        "\n",
        "from sklearn.model_selection import train_test_split\n",
        "train_ratio = 0.8\n",
        "X_train, X_val, y_train, y_val = train_test_split(X, y, train_size=train_ratio,random_state=123)"
      ],
      "execution_count": 0,
      "outputs": []
    },
    {
      "cell_type": "code",
      "metadata": {
        "id": "updyiPsRK1KH",
        "colab_type": "code",
        "colab": {
          "base_uri": "https://localhost:8080/",
          "height": 84
        },
        "outputId": "a56c9b74-dcf0-4795-ee39-690952661611"
      },
      "source": [
        "print(X_train.shape)\n",
        "print(y_train.shape)\n",
        "print(X_val.shape)\n",
        "print(y_val.shape)"
      ],
      "execution_count": 5,
      "outputs": [
        {
          "output_type": "stream",
          "text": [
            "(24000, 32, 32, 3)\n",
            "(24000, 18)\n",
            "(6000, 32, 32, 3)\n",
            "(6000, 18)\n"
          ],
          "name": "stdout"
        }
      ]
    },
    {
      "cell_type": "markdown",
      "metadata": {
        "id": "0ElRmXTlK1Uf",
        "colab_type": "text"
      },
      "source": [
        "## 3. CNN"
      ]
    },
    {
      "cell_type": "markdown",
      "metadata": {
        "id": "Q3k2-7gB5u5C",
        "colab_type": "text"
      },
      "source": [
        "### 3.1. Model Building"
      ]
    },
    {
      "cell_type": "code",
      "metadata": {
        "id": "AZPFq8vY5u5C",
        "colab_type": "code",
        "colab": {
          "base_uri": "https://localhost:8080/",
          "height": 759
        },
        "outputId": "46cdbb03-8701-467a-8a25-b12f22b57510"
      },
      "source": [
        "import seaborn as sns\n",
        "from keras.optimizers  import adam\n",
        "from keras.callbacks import Callback\n",
        "\n",
        "from keras.utils import np_utils\n",
        "\n",
        "\n",
        "from keras.models import Sequential \n",
        "from keras.layers import Dense,Conv2D, MaxPooling2D, Dropout, Flatten\n",
        "\n",
        "def createModel():\n",
        "    model =Sequential()\n",
        "    model.add(Conv2D(32, (3 ,3),padding = 'same',activation = 'relu',input_shape = (32,32,3)))\n",
        "    model.add(Conv2D(32, (3, 3) ,activation = 'relu' ))\n",
        "    model.add(MaxPooling2D(pool_size=(2,2)))\n",
        "    model.add(Dropout(0.4))\n",
        "    \n",
        "    \n",
        "    model.add(Conv2D(64, (3, 3), padding = 'same',activation = 'relu'))\n",
        "    model.add(Conv2D(64, (3, 3), activation = 'relu' ))\n",
        "    model.add(MaxPooling2D(pool_size=(2,2)))\n",
        "    model.add(Dropout(0.4))\n",
        "    \n",
        "    \n",
        "    model.add(Conv2D(64, (3, 3), padding = 'same',activation = 'relu'))\n",
        "    model.add(Conv2D(64, (3, 3), activation = 'relu' ))\n",
        "    model.add(MaxPooling2D(pool_size=(2,2)))\n",
        "    model.add(Dropout(0.4))\n",
        "    \n",
        "    \n",
        "    model.add(Flatten())\n",
        "    model.add(Dense(512, activation='relu'))\n",
        "    model.add(Dropout(0.5))\n",
        "    model.add(Dense(y_train.shape[1],activation='softmax'))\n",
        "    \n",
        "    \n",
        "    return model\n",
        "\n",
        "\n",
        "\n",
        "model = createModel()\n",
        "AdamOpt = adam(lr=0.001)  \n",
        "model.compile(optimizer=AdamOpt, loss='categorical_crossentropy', metrics=['accuracy'])\n",
        "model.summary() \n"
      ],
      "execution_count": 6,
      "outputs": [
        {
          "output_type": "stream",
          "text": [
            "/usr/local/lib/python3.6/dist-packages/statsmodels/tools/_testing.py:19: FutureWarning: pandas.util.testing is deprecated. Use the functions in the public API at pandas.testing instead.\n",
            "  import pandas.util.testing as tm\n",
            "Using TensorFlow backend.\n"
          ],
          "name": "stderr"
        },
        {
          "output_type": "stream",
          "text": [
            "Model: \"sequential_1\"\n",
            "_________________________________________________________________\n",
            "Layer (type)                 Output Shape              Param #   \n",
            "=================================================================\n",
            "conv2d_1 (Conv2D)            (None, 32, 32, 32)        896       \n",
            "_________________________________________________________________\n",
            "conv2d_2 (Conv2D)            (None, 30, 30, 32)        9248      \n",
            "_________________________________________________________________\n",
            "max_pooling2d_1 (MaxPooling2 (None, 15, 15, 32)        0         \n",
            "_________________________________________________________________\n",
            "dropout_1 (Dropout)          (None, 15, 15, 32)        0         \n",
            "_________________________________________________________________\n",
            "conv2d_3 (Conv2D)            (None, 15, 15, 64)        18496     \n",
            "_________________________________________________________________\n",
            "conv2d_4 (Conv2D)            (None, 13, 13, 64)        36928     \n",
            "_________________________________________________________________\n",
            "max_pooling2d_2 (MaxPooling2 (None, 6, 6, 64)          0         \n",
            "_________________________________________________________________\n",
            "dropout_2 (Dropout)          (None, 6, 6, 64)          0         \n",
            "_________________________________________________________________\n",
            "conv2d_5 (Conv2D)            (None, 6, 6, 64)          36928     \n",
            "_________________________________________________________________\n",
            "conv2d_6 (Conv2D)            (None, 4, 4, 64)          36928     \n",
            "_________________________________________________________________\n",
            "max_pooling2d_3 (MaxPooling2 (None, 2, 2, 64)          0         \n",
            "_________________________________________________________________\n",
            "dropout_3 (Dropout)          (None, 2, 2, 64)          0         \n",
            "_________________________________________________________________\n",
            "flatten_1 (Flatten)          (None, 256)               0         \n",
            "_________________________________________________________________\n",
            "dense_1 (Dense)              (None, 512)               131584    \n",
            "_________________________________________________________________\n",
            "dropout_4 (Dropout)          (None, 512)               0         \n",
            "_________________________________________________________________\n",
            "dense_2 (Dense)              (None, 18)                9234      \n",
            "=================================================================\n",
            "Total params: 280,242\n",
            "Trainable params: 280,242\n",
            "Non-trainable params: 0\n",
            "_________________________________________________________________\n"
          ],
          "name": "stdout"
        }
      ]
    },
    {
      "cell_type": "markdown",
      "metadata": {
        "id": "H8n72J5O1YQf",
        "colab_type": "text"
      },
      "source": [
        "### 3.2. Model Training"
      ]
    },
    {
      "cell_type": "code",
      "metadata": {
        "id": "jLZBHqPy1Tfk",
        "colab_type": "code",
        "colab": {}
      },
      "source": [
        "class CustomCallback(Callback):\n",
        "    def on_epoch_end(self, epoch, logs={} ):\n",
        "        if(epoch % 50 == 0):\n",
        "            print(\"just finished\",epoch)\n",
        "            print('--------------------------')                        #just a funtion to show to accuracy after 5 epochs\n",
        "            print('losss = ',logs.get('val_loss'))\n",
        "            print('accuracy :',logs.get('accuracy'))\n",
        "            print('val_acc = ',logs.get('val_accuracy'))\n",
        "            return \n",
        "\n",
        "                                          #fit the model with thw datasets\n",
        "cc=CustomCallback()"
      ],
      "execution_count": 0,
      "outputs": []
    },
    {
      "cell_type": "code",
      "metadata": {
        "id": "Vj0OBLMa1-oo",
        "colab_type": "code",
        "colab": {
          "base_uri": "https://localhost:8080/",
          "height": 474
        },
        "outputId": "2c4398cc-9221-4ce3-bd38-fb83087d273f"
      },
      "source": [
        "batch_size = 2560\n",
        "epochs = 10 \n",
        "hist = model.fit(X_train,y_train,batch_size =batch_size ,epochs =epochs,verbose=1,validation_data=(X_val, y_val),callbacks=[cc])"
      ],
      "execution_count": 9,
      "outputs": [
        {
          "output_type": "stream",
          "text": [
            "Train on 24000 samples, validate on 6000 samples\n",
            "Epoch 1/10\n",
            "24000/24000 [==============================] - 3s 143us/step - loss: 18210539756148.0547 - accuracy: 0.5200 - val_loss: 25738824087415.4648 - val_accuracy: 0.7578\n",
            "just finished 0\n",
            "--------------------------\n",
            "losss =  25738824087415.465\n",
            "accuracy : 0.52\n",
            "val_acc =  0.7578333616256714\n",
            "Epoch 2/10\n",
            "24000/24000 [==============================] - 3s 139us/step - loss: 49915752335714.9844 - accuracy: 0.5197 - val_loss: 67238921985064.9609 - val_accuracy: 0.7578\n",
            "Epoch 3/10\n",
            "24000/24000 [==============================] - 3s 139us/step - loss: 123016982780968.9688 - accuracy: 0.5183 - val_loss: 155897362389838.5000 - val_accuracy: 0.7578\n",
            "Epoch 4/10\n",
            "24000/24000 [==============================] - 3s 139us/step - loss: 278320593456769.7188 - accuracy: 0.5061 - val_loss: 351640865109005.6250 - val_accuracy: 0.7578\n",
            "Epoch 5/10\n",
            "24000/24000 [==============================] - 3s 139us/step - loss: 597828249139718.7500 - accuracy: 0.5165 - val_loss: 706363650215335.2500 - val_accuracy: 0.7578\n",
            "Epoch 6/10\n",
            "24000/24000 [==============================] - 3s 139us/step - loss: 1190897878526416.2500 - accuracy: 0.5186 - val_loss: 1372750215496335.2500 - val_accuracy: 0.7578\n",
            "Epoch 7/10\n",
            "24000/24000 [==============================] - 3s 139us/step - loss: 2272430170116369.0000 - accuracy: 0.5113 - val_loss: 2606108931700818.0000 - val_accuracy: 0.7578\n",
            "Epoch 8/10\n",
            "24000/24000 [==============================] - 3s 139us/step - loss: 4195565610851806.0000 - accuracy: 0.5163 - val_loss: 4675508112891139.0000 - val_accuracy: 0.7578\n",
            "Epoch 9/10\n",
            "24000/24000 [==============================] - 3s 139us/step - loss: 7346363726687109.0000 - accuracy: 0.5165 - val_loss: 8181751952570668.0000 - val_accuracy: 0.7578\n",
            "Epoch 10/10\n",
            "24000/24000 [==============================] - 3s 139us/step - loss: 12458567685985622.0000 - accuracy: 0.5203 - val_loss: 13228579587568436.0000 - val_accuracy: 0.7578\n"
          ],
          "name": "stdout"
        }
      ]
    }
  ]
}