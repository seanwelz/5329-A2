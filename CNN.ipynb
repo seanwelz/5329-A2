{
  "nbformat": 4,
  "nbformat_minor": 0,
  "metadata": {
    "colab": {
      "name": "CNN.ipynb",
      "provenance": [],
      "collapsed_sections": [],
      "toc_visible": true
    },
    "kernelspec": {
      "name": "python3",
      "display_name": "Python 3"
    },
    "accelerator": "GPU"
  },
  "cells": [
    {
      "cell_type": "markdown",
      "metadata": {
        "id": "OwGuFIXj3vAH",
        "colab_type": "text"
      },
      "source": [
        "## 0. Import csv and lib"
      ]
    },
    {
      "cell_type": "code",
      "metadata": {
        "id": "Acv2YSzO3uwS",
        "colab_type": "code",
        "outputId": "a9fae941-8f06-4951-9335-48f29e63e9a1",
        "colab": {
          "base_uri": "https://localhost:8080/",
          "height": 121
        }
      },
      "source": [
        "import numpy as np\n",
        "import pandas as pd\n",
        "from sklearn.model_selection import train_test_split\n",
        "import matplotlib.pyplot as plt\n",
        "import matplotlib\n",
        "from collections import  Counter\n",
        "import cv2\n",
        "import tensorflow as tf\n",
        "import time\n",
        "\n",
        "from google.colab import drive\n",
        "drive.mount('/content/drive')\n",
        "\n",
        "# Pls change to your google drive train.csv path\n",
        "df = pd.read_csv('/content/drive/My Drive/COMP5329S1A2Dataset/train.csv')"
      ],
      "execution_count": 2,
      "outputs": [
        {
          "output_type": "stream",
          "text": [
            "Go to this URL in a browser: https://accounts.google.com/o/oauth2/auth?client_id=947318989803-6bn6qk8qdgf4n4g3pfee6491hc0brc4i.apps.googleusercontent.com&redirect_uri=urn%3aietf%3awg%3aoauth%3a2.0%3aoob&response_type=code&scope=email%20https%3a%2f%2fwww.googleapis.com%2fauth%2fdocs.test%20https%3a%2f%2fwww.googleapis.com%2fauth%2fdrive%20https%3a%2f%2fwww.googleapis.com%2fauth%2fdrive.photos.readonly%20https%3a%2f%2fwww.googleapis.com%2fauth%2fpeopleapi.readonly\n",
            "\n",
            "Enter your authorization code:\n",
            "··········\n",
            "Mounted at /content/drive\n"
          ],
          "name": "stdout"
        }
      ]
    },
    {
      "cell_type": "markdown",
      "metadata": {
        "id": "EHx1yBV0LmGE",
        "colab_type": "text"
      },
      "source": [
        "## 1. [This part is reserved for future caption nlp]"
      ]
    },
    {
      "cell_type": "markdown",
      "metadata": {
        "id": "zo97OV9tKaov",
        "colab_type": "text"
      },
      "source": [
        "## 2. Data pre-processing"
      ]
    },
    {
      "cell_type": "markdown",
      "metadata": {
        "id": "0juzfvffKFCu",
        "colab_type": "text"
      },
      "source": [
        "### 2.1. Multi label binary encoding"
      ]
    },
    {
      "cell_type": "code",
      "metadata": {
        "id": "YahhxUAr3-nP",
        "colab_type": "code",
        "outputId": "11de8742-aa3a-4b4c-b35d-f6813462c72d",
        "colab": {
          "base_uri": "https://localhost:8080/",
          "height": 218
        }
      },
      "source": [
        "labels = df['Labels'].tolist()\n",
        "label_combination=[]\n",
        "label_list=[]\n",
        "\n",
        "for label in labels:\n",
        "    num_label=[int(i) for i in label.split()]\n",
        "    label_list.append(sorted(num_label))\n",
        "    sort_label=[str(i)for i in sorted(num_label)]\n",
        "    label_combination.append(' '.join(sort_label))\n",
        "\n",
        "from sklearn.preprocessing import MultiLabelBinarizer\n",
        "mlb = MultiLabelBinarizer()\n",
        "mlb.fit(label_list)\n",
        "y = mlb.transform(label_list)\n",
        "\n",
        "print(y[:5])\n",
        "print()\n",
        "df.Labels.head()"
      ],
      "execution_count": 3,
      "outputs": [
        {
          "output_type": "stream",
          "text": [
            "[[1 0 0 0 0 0 0 0 0 0 0 0 0 0 0 0 0 0]\n",
            " [1 0 0 0 0 0 0 0 0 0 0 0 0 0 0 0 0 1]\n",
            " [1 0 0 0 0 0 0 0 0 0 0 0 0 0 0 0 0 0]\n",
            " [0 0 1 0 0 0 0 1 0 0 0 1 0 0 0 0 0 0]\n",
            " [0 0 1 0 0 0 1 1 0 0 0 0 0 0 0 0 0 0]]\n",
            "\n"
          ],
          "name": "stdout"
        },
        {
          "output_type": "execute_result",
          "data": {
            "text/plain": [
              "0         1\n",
              "1      1 19\n",
              "2         1\n",
              "3    8 3 13\n",
              "4     8 3 7\n",
              "Name: Labels, dtype: object"
            ]
          },
          "metadata": {
            "tags": []
          },
          "execution_count": 3
        }
      ]
    },
    {
      "cell_type": "markdown",
      "metadata": {
        "id": "kztg8tDU2lK9",
        "colab_type": "text"
      },
      "source": [
        "### 2.2. Prepare Train & Validation Data"
      ]
    },
    {
      "cell_type": "code",
      "metadata": {
        "id": "hWjlsg5U2ho9",
        "colab_type": "code",
        "colab": {}
      },
      "source": [
        "h=32\n",
        "w=32\n",
        "file='Train_image_%d_%d'%(h,w)\n",
        "\n",
        "# Pl change below as the npy file path in your google drive\n",
        "DATA_DIR='/content/drive/My Drive/'\n",
        "########################################################################\n",
        "\n",
        "\n",
        "\n",
        "X=np.load(DATA_DIR+file+'.npy',allow_pickle=True)\n",
        "\n",
        "from sklearn.model_selection import train_test_split\n",
        "train_ratio = 0.8\n",
        "X_train, X_val, y_train, y_val = train_test_split(X, y, train_size=train_ratio,random_state=123)"
      ],
      "execution_count": 0,
      "outputs": []
    },
    {
      "cell_type": "code",
      "metadata": {
        "id": "updyiPsRK1KH",
        "colab_type": "code",
        "outputId": "e1638b15-d705-4674-b413-55d53787f1cc",
        "colab": {
          "base_uri": "https://localhost:8080/",
          "height": 84
        }
      },
      "source": [
        "print(X_train.shape)\n",
        "print(y_train.shape)\n",
        "print(X_val.shape)\n",
        "print(y_val.shape)"
      ],
      "execution_count": 5,
      "outputs": [
        {
          "output_type": "stream",
          "text": [
            "(24000, 32, 32, 3)\n",
            "(24000, 18)\n",
            "(6000, 32, 32, 3)\n",
            "(6000, 18)\n"
          ],
          "name": "stdout"
        }
      ]
    },
    {
      "cell_type": "markdown",
      "metadata": {
        "id": "0ElRmXTlK1Uf",
        "colab_type": "text"
      },
      "source": [
        "## 3. CNN"
      ]
    },
    {
      "cell_type": "markdown",
      "metadata": {
        "id": "Q3k2-7gB5u5C",
        "colab_type": "text"
      },
      "source": [
        "### 3.1. Model Building"
      ]
    },
    {
      "cell_type": "code",
      "metadata": {
        "id": "AZPFq8vY5u5C",
        "colab_type": "code",
        "outputId": "b76f181f-e76b-48ad-eca2-47865358eeb1",
        "colab": {
          "base_uri": "https://localhost:8080/",
          "height": 34
        }
      },
      "source": [
        "from keras.optimizers  import adam\n",
        "from keras.utils import np_utils\n",
        "from keras.models import Sequential \n",
        "from keras.layers import Dense,Conv2D, MaxPooling2D, Dropout, Flatten\n",
        "\n",
        "def CNN_model():\n",
        "  model = Sequential()\n",
        "  model.add(Conv2D(32, kernel_size=(3, 3),activation='relu',input_shape=(32, 32, 3)))\n",
        "  model.add(Conv2D(64, (3, 3), activation='relu'))\n",
        "  model.add(MaxPooling2D(pool_size=(2, 2)))\n",
        "  model.add(Dropout(0.25))\n",
        "  \n",
        "  \n",
        "  model.add(Flatten())\n",
        "  model.add(Dense(128, activation='relu'))\n",
        "  model.add(Dropout(0.5))\n",
        "  model.add(Dense(18, activation='sigmoid'))\n",
        "  \n",
        "  return model"
      ],
      "execution_count": 6,
      "outputs": [
        {
          "output_type": "stream",
          "text": [
            "Using TensorFlow backend.\n"
          ],
          "name": "stderr"
        }
      ]
    },
    {
      "cell_type": "markdown",
      "metadata": {
        "id": "H8n72J5O1YQf",
        "colab_type": "text"
      },
      "source": [
        "### 3.2. Model Training"
      ]
    },
    {
      "cell_type": "code",
      "metadata": {
        "id": "3l7ibfBmMCr2",
        "colab_type": "code",
        "outputId": "349d613d-bdcd-48e5-b521-d3677d775d4a",
        "colab": {
          "base_uri": "https://localhost:8080/",
          "height": 605
        }
      },
      "source": [
        "model=CNN_model()\n",
        "model.summary() \n",
        "model.compile(loss='binary_crossentropy',optimizer='adam',metrics=['accuracy'])\n",
        "print()  \n",
        "\n",
        "model.fit(X_train, y_train,batch_size=1024,epochs=4,verbose=1,validation_data=(X_val, y_val))"
      ],
      "execution_count": 7,
      "outputs": [
        {
          "output_type": "stream",
          "text": [
            "Model: \"sequential_1\"\n",
            "_________________________________________________________________\n",
            "Layer (type)                 Output Shape              Param #   \n",
            "=================================================================\n",
            "conv2d_1 (Conv2D)            (None, 30, 30, 32)        896       \n",
            "_________________________________________________________________\n",
            "conv2d_2 (Conv2D)            (None, 28, 28, 64)        18496     \n",
            "_________________________________________________________________\n",
            "max_pooling2d_1 (MaxPooling2 (None, 14, 14, 64)        0         \n",
            "_________________________________________________________________\n",
            "dropout_1 (Dropout)          (None, 14, 14, 64)        0         \n",
            "_________________________________________________________________\n",
            "flatten_1 (Flatten)          (None, 12544)             0         \n",
            "_________________________________________________________________\n",
            "dense_1 (Dense)              (None, 128)               1605760   \n",
            "_________________________________________________________________\n",
            "dropout_2 (Dropout)          (None, 128)               0         \n",
            "_________________________________________________________________\n",
            "dense_2 (Dense)              (None, 18)                2322      \n",
            "=================================================================\n",
            "Total params: 1,627,474\n",
            "Trainable params: 1,627,474\n",
            "Non-trainable params: 0\n",
            "_________________________________________________________________\n",
            "\n",
            "Train on 24000 samples, validate on 6000 samples\n",
            "Epoch 1/4\n",
            "24000/24000 [==============================] - 8s 314us/step - loss: 2.9549 - accuracy: 0.8466 - val_loss: 0.2671 - val_accuracy: 0.9419\n",
            "Epoch 2/4\n",
            "24000/24000 [==============================] - 1s 39us/step - loss: 0.3295 - accuracy: 0.8971 - val_loss: 0.2290 - val_accuracy: 0.9426\n",
            "Epoch 3/4\n",
            "24000/24000 [==============================] - 1s 39us/step - loss: 0.2899 - accuracy: 0.9143 - val_loss: 0.2135 - val_accuracy: 0.9426\n",
            "Epoch 4/4\n",
            "24000/24000 [==============================] - 1s 38us/step - loss: 0.2740 - accuracy: 0.9216 - val_loss: 0.2109 - val_accuracy: 0.9426\n"
          ],
          "name": "stdout"
        },
        {
          "output_type": "execute_result",
          "data": {
            "text/plain": [
              "<keras.callbacks.callbacks.History at 0x7fc2402f2ef0>"
            ]
          },
          "metadata": {
            "tags": []
          },
          "execution_count": 7
        }
      ]
    },
    {
      "cell_type": "markdown",
      "metadata": {
        "id": "bUiWvDTYZ4RT",
        "colab_type": "text"
      },
      "source": [
        "## 4. Threshold and F1-score analysis"
      ]
    },
    {
      "cell_type": "markdown",
      "metadata": {
        "id": "QOzaxuK-apxr",
        "colab_type": "text"
      },
      "source": [
        "### 4.1. Overall F1-Score under same threshold"
      ]
    },
    {
      "cell_type": "code",
      "metadata": {
        "id": "-C7d_ejCGClY",
        "colab_type": "code",
        "outputId": "cf188549-c446-450d-f951-4cb588c38d71",
        "colab": {
          "base_uri": "https://localhost:8080/",
          "height": 638
        }
      },
      "source": [
        "# drawing graph\n",
        "from sklearn.metrics import fbeta_score\n",
        "p_val = model.predict(X_val, batch_size=6000)\n",
        "sample_f1=[]\n",
        "threshold=np.arange(0.02,1,0.05)\n",
        "for thr in threshold:\n",
        "  sample_f1.append(fbeta_score(y_val, np.array(p_val) > thr, beta=1, average='samples'))\n",
        "\n",
        "plt.plot(threshold,sample_f1)\n",
        "plt.axis([0, 1, 0, 1])\n",
        "fig = matplotlib.pyplot.gcf()\n",
        "fig.set_size_inches(15,10,forward=True)\n",
        "plt.rc('xtick', labelsize=10)    # fontsize of the tick labels\n",
        "plt.rc('ytick', labelsize=10) \n",
        "my_x_ticks = np.arange(0, 1, 0.05) \n",
        "my_y_ticks = np.arange(0, 1, 0.05) \n",
        "plt.xticks(my_x_ticks)\n",
        "plt.yticks(my_y_ticks)\n",
        "plt.grid()\n",
        "plt.title('F1 Score vs Threshold for overall classes')\n",
        "plt.xlabel('Threshold')\n",
        "plt.ylabel('F1 Score')\n",
        "\n",
        "best_thr=threshold[np.argmax(sample_f1)]\n",
        "text='Max F1-Score is %.4f when threshold at %.2f'\n",
        "same_thr_f1=fbeta_score(y_val,np.array(p_val)>best_thr,beta=1, average='samples')\n",
        "print(text%(same_thr_f1,best_thr))\n"
      ],
      "execution_count": 8,
      "outputs": [
        {
          "output_type": "stream",
          "text": [
            "Max F1-Score is 0.6367 when threshold at 0.47\n"
          ],
          "name": "stdout"
        },
        {
          "output_type": "display_data",
          "data": {
            "image/png": "[encoded data removed]",
            "text/plain": [
              "<Figure size 1080x720 with 1 Axes>"
            ]
          },
          "metadata": {
            "tags": [],
            "needs_background": "light"
          }
        }
      ]
    },
    {
      "cell_type": "markdown",
      "metadata": {
        "id": "v-Nv6gjvWcwn",
        "colab_type": "text"
      },
      "source": [
        "### 4.2. Individual class F1 score under same threshold assigned"
      ]
    },
    {
      "cell_type": "code",
      "metadata": {
        "id": "dnxziuqEW8vE",
        "colab_type": "code",
        "colab": {
          "base_uri": "https://localhost:8080/",
          "height": 370
        },
        "outputId": "56a1557f-3fc7-4096-bcfd-52613fd96d86"
      },
      "source": [
        "# Show each class f1-score\n",
        "same_thr_f1_idv=fbeta_score(y_val,np.array(p_val)>best_thr,beta=1, average=None)\n",
        "\n",
        "agn_thr=0.2\n",
        "class_f1=fbeta_score(y_val, np.array(p_val) >agn_thr, beta=1, average=None)\n",
        "count_label=[int(i) for i in ' '.join(labels).split()]\n",
        "label_dic=list(set(count_label))\n",
        "print('When threshold at: ',agn_thr)\n",
        "print('\\nLabel   F1-score at %.2f   F1-Score(best) at %.2f'%(agn_thr,best_thr))\n",
        "for i in range(len(label_dic)):\n",
        "  print(' ',label_dic[i],' '*8,round(class_f1[i],4),' '*15,np.round(same_thr_f1_idv[i],4))"
      ],
      "execution_count": 9,
      "outputs": [
        {
          "output_type": "stream",
          "text": [
            "When threshold at:  0.2\n",
            "\n",
            "Label   F1-score at 0.20   F1-Score(best) at 0.47\n",
            "  1          0.8622                 0.8622\n",
            "  2          0.0                 0.0\n",
            "  3          0.1961                 0.0\n",
            "  4          0.0125                 0.0\n",
            "  5          0.0534                 0.0\n",
            "  6          0.0115                 0.0\n",
            "  7          0.0                 0.0\n",
            "  8          0.106                 0.0\n",
            "  9          0.0246                 0.0\n",
            "  10          0.0213                 0.0\n",
            "  11          0.0                 0.0\n",
            "  13          0.0105                 0.0\n",
            "  14          0.0                 0.0\n",
            "  15          0.0236                 0.0\n",
            "  16          0.0521                 0.0\n",
            "  17          0.0323                 0.0\n",
            "  18          0.0357                 0.0\n",
            "  19          0.0427                 0.0\n"
          ],
          "name": "stdout"
        }
      ]
    },
    {
      "cell_type": "markdown",
      "metadata": {
        "id": "lwxcW7uqW-Ji",
        "colab_type": "text"
      },
      "source": [
        "### 4.3. Individual class F1 score with their best threshold and overall F1 score "
      ]
    },
    {
      "cell_type": "code",
      "metadata": {
        "id": "1LVMeGFfTm0W",
        "colab_type": "code",
        "outputId": "7579db41-0542-4da5-a724-904c32c05875",
        "colab": {
          "base_uri": "https://localhost:8080/",
          "height": 370
        }
      },
      "source": [
        "class_f1=[]\n",
        "threshold=np.arange(0,1,0.05)\n",
        "for thr in threshold:\n",
        "  class_f1.append(fbeta_score(y_val, np.array(p_val) > thr, beta=1, average=None))\n",
        "\n",
        "class_f1_T=np.transpose(class_f1)\n",
        "p_val_T=np.transpose(p_val)\n",
        "best_thr_list=[]\n",
        "print('Label   Best Threshold   F1-Score')\n",
        "p_val_T_logit=[]\n",
        "for i in range(len(label_dic)):\n",
        "  best_thr=threshold[np.argmax(class_f1_T[i])]\n",
        "  print(' ',label_dic[i],' '*8,round(best_thr,2),' '*8,round(max(class_f1_T[i]),4))\n",
        "  p_val_T_logit.append(p_val_T[i]>best_thr)\n",
        "  best_thr_list.append(best_thr)\n",
        "\n",
        "p_val_opt=np.transpose(p_val_T_logit)\n",
        "print()\n",
        "print('Mean(average=\"samples\") F1-Score: ',fbeta_score(y_val,p_val_opt,beta=1,average='samples'))"
      ],
      "execution_count": 10,
      "outputs": [
        {
          "output_type": "stream",
          "text": [
            "Label   Best Threshold   F1-Score\n",
            "  1          0.0          0.8622\n",
            "  2          0.0          0.0723\n",
            "  3          0.1          0.2873\n",
            "  4          0.05          0.0912\n",
            "  5          0.05          0.0938\n",
            "  6          0.05          0.1016\n",
            "  7          0.05          0.0997\n",
            "  8          0.1          0.1583\n",
            "  9          0.1          0.1036\n",
            "  10          0.05          0.1158\n",
            "  11          0.0          0.0395\n",
            "  13          0.15          0.05\n",
            "  14          0.05          0.0173\n",
            "  15          0.05          0.1282\n",
            "  16          0.15          0.0791\n",
            "  17          0.05          0.1005\n",
            "  18          0.05          0.1002\n",
            "  19          0.1          0.0694\n",
            "\n",
            "Mean(average=\"samples\") F1-Score:  0.25828034537996813\n"
          ],
          "name": "stdout"
        }
      ]
    },
    {
      "cell_type": "markdown",
      "metadata": {
        "id": "JK4SMGsOXrik",
        "colab_type": "text"
      },
      "source": [
        "### 4.4. Individual classes F1-Score vs threshold"
      ]
    },
    {
      "cell_type": "code",
      "metadata": {
        "id": "lCLXB0yLzWBg",
        "colab_type": "code",
        "outputId": "705c87cb-2a29-4311-be7b-8f6539bdffb4",
        "colab": {
          "base_uri": "https://localhost:8080/",
          "height": 638
        }
      },
      "source": [
        "for i in range(len(label_dic)):\n",
        "  plt.plot(threshold,class_f1_T[i],label=label_dic[i])\n",
        "\n",
        "plt.axis([0, 1, 0, 1])\n",
        "fig = matplotlib.pyplot.gcf()\n",
        "fig.set_size_inches(15,10,forward=True)\n",
        "plt.rc('xtick', labelsize=10)    # fontsize of the tick labels\n",
        "plt.rc('ytick', labelsize=10) \n",
        "my_x_ticks = np.arange(0, 1, 0.05) \n",
        "my_y_ticks = np.arange(0, 1, 0.05) \n",
        "plt.xticks(my_x_ticks)\n",
        "plt.yticks(my_y_ticks)\n",
        "plt.grid()\n",
        "plt.title('F1 Score vs Threshold for each class')\n",
        "plt.xlabel('Threshold')\n",
        "plt.ylabel('F1 Score')\n",
        "plt.legend()\n"
      ],
      "execution_count": 11,
      "outputs": [
        {
          "output_type": "execute_result",
          "data": {
            "text/plain": [
              "<matplotlib.legend.Legend at 0x7fc24004cd30>"
            ]
          },
          "metadata": {
            "tags": []
          },
          "execution_count": 11
        },
        {
          "output_type": "display_data",
          "data": {
            "image/png": "[encoded data removed]",
            "text/plain": [
              "<Figure size 1080x720 with 1 Axes>"
            ]
          },
          "metadata": {
            "tags": [],
            "needs_background": "light"
          }
        }
      ]
    },
    {
      "cell_type": "markdown",
      "metadata": {
        "id": "Of6-w5uAZKnw",
        "colab_type": "text"
      },
      "source": [
        "### 4.5. Traverse different combination of threshold to find the best F1-Score"
      ]
    },
    {
      "cell_type": "code",
      "metadata": {
        "id": "KrcV3xR8tEt6",
        "colab_type": "code",
        "outputId": "4dec3ea0-2c10-487d-a60f-d141bb327de9",
        "colab": {
          "base_uri": "https://localhost:8080/",
          "height": 1000
        }
      },
      "source": [
        "import itertools\n",
        "thresh_list = np.arange(0,0.6,0.05)\n",
        "category = 3\n",
        "\n",
        "\n",
        "tune_result=[]\n",
        "tune_list=[np.round(list(i),2) for i in itertools.product(*[thresh_list] * category)]\n",
        "\n",
        "for p in tune_list:\n",
        "  p_val_T_logit=[]\n",
        "  p_val_opt=[]\n",
        "  for i in range(18):\n",
        "    if i==0:\n",
        "      p_val_T_logit.append(p_val_T[i]>p[0])\n",
        "    elif i==2:\n",
        "      p_val_T_logit.append(p_val_T[i]>p[1])\n",
        "    else:\n",
        "      p_val_T_logit.append(p_val_T[i]>p[2])\n",
        "\n",
        "  p_val_opt=np.transpose(p_val_T_logit)\n",
        "  tune_result.append(fbeta_score(y_val,p_val_opt,beta=1,average='samples'))\n",
        "\n",
        "print('Max F1-Score: ',max(tune_result))\n",
        "print('\\nAll combination of threshold:')\n",
        "print('\\nLabel:',label_dic[0],'Label:',label_dic[2],'Other labels')\n",
        "tune_idx=np.where(tune_result==max(tune_result))\n",
        "for i in tune_idx[0]:\n",
        "  print(tune_list[i])"
      ],
      "execution_count": 14,
      "outputs": [
        {
          "output_type": "stream",
          "text": [
            "Max F1-Score:  0.6366892857142857\n",
            "\n",
            "All combination of threshold:\n",
            "\n",
            "Label: 1 Label: 3 Other labels\n",
            "[0.   0.5  0.45]\n",
            "[0.  0.5 0.5]\n",
            "[0.   0.5  0.55]\n",
            "[0.   0.55 0.45]\n",
            "[0.   0.55 0.5 ]\n",
            "[0.   0.55 0.55]\n",
            "[0.05 0.5  0.45]\n",
            "[0.05 0.5  0.5 ]\n",
            "[0.05 0.5  0.55]\n",
            "[0.05 0.55 0.45]\n",
            "[0.05 0.55 0.5 ]\n",
            "[0.05 0.55 0.55]\n",
            "[0.1  0.5  0.45]\n",
            "[0.1 0.5 0.5]\n",
            "[0.1  0.5  0.55]\n",
            "[0.1  0.55 0.45]\n",
            "[0.1  0.55 0.5 ]\n",
            "[0.1  0.55 0.55]\n",
            "[0.15 0.5  0.45]\n",
            "[0.15 0.5  0.5 ]\n",
            "[0.15 0.5  0.55]\n",
            "[0.15 0.55 0.45]\n",
            "[0.15 0.55 0.5 ]\n",
            "[0.15 0.55 0.55]\n",
            "[0.2  0.5  0.45]\n",
            "[0.2 0.5 0.5]\n",
            "[0.2  0.5  0.55]\n",
            "[0.2  0.55 0.45]\n",
            "[0.2  0.55 0.5 ]\n",
            "[0.2  0.55 0.55]\n",
            "[0.25 0.5  0.45]\n",
            "[0.25 0.5  0.5 ]\n",
            "[0.25 0.5  0.55]\n",
            "[0.25 0.55 0.45]\n",
            "[0.25 0.55 0.5 ]\n",
            "[0.25 0.55 0.55]\n",
            "[0.3  0.5  0.45]\n",
            "[0.3 0.5 0.5]\n",
            "[0.3  0.5  0.55]\n",
            "[0.3  0.55 0.45]\n",
            "[0.3  0.55 0.5 ]\n",
            "[0.3  0.55 0.55]\n",
            "[0.35 0.5  0.45]\n",
            "[0.35 0.5  0.5 ]\n",
            "[0.35 0.5  0.55]\n",
            "[0.35 0.55 0.45]\n",
            "[0.35 0.55 0.5 ]\n",
            "[0.35 0.55 0.55]\n",
            "[0.4  0.5  0.45]\n",
            "[0.4 0.5 0.5]\n",
            "[0.4  0.5  0.55]\n",
            "[0.4  0.55 0.45]\n",
            "[0.4  0.55 0.5 ]\n",
            "[0.4  0.55 0.55]\n",
            "[0.45 0.5  0.45]\n",
            "[0.45 0.5  0.5 ]\n",
            "[0.45 0.5  0.55]\n",
            "[0.45 0.55 0.45]\n",
            "[0.45 0.55 0.5 ]\n",
            "[0.45 0.55 0.55]\n",
            "[0.5  0.5  0.45]\n",
            "[0.5 0.5 0.5]\n",
            "[0.5  0.5  0.55]\n",
            "[0.5  0.55 0.45]\n",
            "[0.5  0.55 0.5 ]\n",
            "[0.5  0.55 0.55]\n"
          ],
          "name": "stdout"
        }
      ]
    }
  ]
}