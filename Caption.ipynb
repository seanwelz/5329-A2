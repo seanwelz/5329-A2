{
  "nbformat": 4,
  "nbformat_minor": 0,
  "metadata": {
    "colab": {
      "name": "caption.ipynb",
      "provenance": [],
      "collapsed_sections": []
    },
    "kernelspec": {
      "name": "python3",
      "display_name": "Python 3"
    }
  },
  "cells": [
    {
      "cell_type": "markdown",
      "metadata": {
        "id": "Tbtcv-Vy-iUu",
        "colab_type": "text"
      },
      "source": [
        "nlp 保留所有的名词，再用one hot vector"
      ]
    },
    {
      "cell_type": "code",
      "metadata": {
        "id": "Qh3rYKBK5PiF",
        "colab_type": "code",
        "colab": {
          "base_uri": "https://localhost:8080/",
          "height": 121
        },
        "outputId": "ce00b91a-0319-4f71-e811-89301467677c"
      },
      "source": [
        "import numpy as np\n",
        "import pandas as pd\n",
        "from sklearn.model_selection import train_test_split\n",
        "import matplotlib.pyplot as plt\n",
        "import matplotlib\n",
        "from collections import  Counter\n",
        "import cv2\n",
        "from google.colab import drive\n",
        "drive.mount('/content/drive')\n",
        "df = pd.read_csv('/content/drive/My Drive/COMP5329S1A2Dataset/train.csv')\n"
      ],
      "execution_count": 1,
      "outputs": [
        {
          "output_type": "stream",
          "text": [
            "Go to this URL in a browser: https://accounts.google.com/o/oauth2/auth?client_id=947318989803-6bn6qk8qdgf4n4g3pfee6491hc0brc4i.apps.googleusercontent.com&redirect_uri=urn%3aietf%3awg%3aoauth%3a2.0%3aoob&response_type=code&scope=email%20https%3a%2f%2fwww.googleapis.com%2fauth%2fdocs.test%20https%3a%2f%2fwww.googleapis.com%2fauth%2fdrive%20https%3a%2f%2fwww.googleapis.com%2fauth%2fdrive.photos.readonly%20https%3a%2f%2fwww.googleapis.com%2fauth%2fpeopleapi.readonly\n",
            "\n",
            "Enter your authorization code:\n",
            "··········\n",
            "Mounted at /content/drive\n"
          ],
          "name": "stdout"
        }
      ]
    },
    {
      "cell_type": "code",
      "metadata": {
        "id": "quobga9tPmeK",
        "colab_type": "code",
        "outputId": "071290da-4eb6-4b8b-e650-e6f8c021d42e",
        "colab": {
          "base_uri": "https://localhost:8080/",
          "height": 218
        }
      },
      "source": [
        "labels = df['Labels'].tolist()\n",
        "label_combination=[]\n",
        "label_list=[]\n",
        "\n",
        "for label in labels:\n",
        "    num_label=[int(i) for i in label.split()]\n",
        "    label_list.append(sorted(num_label))\n",
        "    sort_label=[str(i)for i in sorted(num_label)]\n",
        "    label_combination.append(' '.join(sort_label))\n",
        "\n",
        "from sklearn.preprocessing import MultiLabelBinarizer\n",
        "mlb = MultiLabelBinarizer()\n",
        "mlb.fit(label_list)\n",
        "y = mlb.transform(label_list)\n",
        "\n",
        "print(y[:5])\n",
        "print()\n",
        "df.Labels.head()\n",
        "\n"
      ],
      "execution_count": 2,
      "outputs": [
        {
          "output_type": "stream",
          "text": [
            "[[1 0 0 0 0 0 0 0 0 0 0 0 0 0 0 0 0 0]\n",
            " [1 0 0 0 0 0 0 0 0 0 0 0 0 0 0 0 0 1]\n",
            " [1 0 0 0 0 0 0 0 0 0 0 0 0 0 0 0 0 0]\n",
            " [0 0 1 0 0 0 0 1 0 0 0 1 0 0 0 0 0 0]\n",
            " [0 0 1 0 0 0 1 1 0 0 0 0 0 0 0 0 0 0]]\n",
            "\n"
          ],
          "name": "stdout"
        },
        {
          "output_type": "execute_result",
          "data": {
            "text/plain": [
              "0         1\n",
              "1      1 19\n",
              "2         1\n",
              "3    8 3 13\n",
              "4     8 3 7\n",
              "Name: Labels, dtype: object"
            ]
          },
          "metadata": {
            "tags": []
          },
          "execution_count": 2
        }
      ]
    },
    {
      "cell_type": "code",
      "metadata": {
        "id": "wBhVEUdD3R3H",
        "colab_type": "code",
        "outputId": "cd85c3c4-8f85-4df0-fb82-ae60d77e6972",
        "colab": {
          "base_uri": "https://localhost:8080/",
          "height": 84
        }
      },
      "source": [
        "reviews_train=df['Caption']\n",
        "\n",
        "# Remove punctuation/number, and converting to lower cae\n",
        "import re\n",
        "def remove_punctuation(x):\n",
        "    x = re.sub(r'[^a-zA-Z\\s]',' ',x.lower())\n",
        "    # replace more than two continuous space with single space\n",
        "    # So for the condition of no space between word and punctuation,\n",
        "    # there is one space between word and punctuation even after punctuation removal\n",
        "    x =re.sub(' +', ' ', x)\n",
        "    return x\n",
        "    \n",
        "punc_train = [remove_punctuation(s) for s in reviews_train]\n",
        "# punc_test = [remove_punctuation(s) for s in reviews_test]\n",
        "\n",
        "# Tokenization the texts\n",
        "import nltk\n",
        "nltk.download('punkt')\n",
        "from nltk.tokenize import word_tokenize\n",
        "token_train = [word_tokenize(s) for s in punc_train]\n",
        "# token_test = [word_tokenize(s) for s in punc_test]\n",
        "\n",
        "\n",
        "nltk.download('stopwords')\n",
        "from nltk.corpus import stopwords as sw\n",
        "stop_words = sw.words('english')\n",
        "\n",
        "def remove_stopwords(x):\n",
        "  x = [w for w in x if not w in stop_words]\n",
        "  return x\n",
        "\n",
        "stopword_train= [remove_stopwords(s) for s in token_train]\n",
        "# stopword_test= [remove_stopwords(s) for s in token_test]\n"
      ],
      "execution_count": 4,
      "outputs": [
        {
          "output_type": "stream",
          "text": [
            "[nltk_data] Downloading package punkt to /root/nltk_data...\n",
            "[nltk_data]   Package punkt is already up-to-date!\n",
            "[nltk_data] Downloading package stopwords to /root/nltk_data...\n",
            "[nltk_data]   Package stopwords is already up-to-date!\n"
          ],
          "name": "stdout"
        }
      ]
    },
    {
      "cell_type": "code",
      "metadata": {
        "id": "oDVb2kT_wQmm",
        "colab_type": "code",
        "colab": {
          "base_uri": "https://localhost:8080/",
          "height": 34
        },
        "outputId": "e45ecad4-52ab-4716-e73b-62b00bcaba7c"
      },
      "source": [
        "type(punc_train)"
      ],
      "execution_count": 22,
      "outputs": [
        {
          "output_type": "execute_result",
          "data": {
            "text/plain": [
              "list"
            ]
          },
          "metadata": {
            "tags": []
          },
          "execution_count": 22
        }
      ]
    },
    {
      "cell_type": "code",
      "metadata": {
        "id": "XT86TghK3qLx",
        "colab_type": "code",
        "colab": {}
      },
      "source": [
        "train_data=stopword_train\n",
        "# caption sentence words count\n",
        "cpt_len=[len(s) for s in train_data]"
      ],
      "execution_count": 0,
      "outputs": []
    },
    {
      "cell_type": "code",
      "metadata": {
        "id": "vbUWG3Pz4KD1",
        "colab_type": "code",
        "outputId": "ad0f512c-c8b9-4f55-c9c9-061d81bda6f8",
        "colab": {
          "base_uri": "https://localhost:8080/",
          "height": 420
        }
      },
      "source": [
        "from collections import Counter\n",
        "Counter(cpt_len)"
      ],
      "execution_count": 6,
      "outputs": [
        {
          "output_type": "execute_result",
          "data": {
            "text/plain": [
              "Counter({1: 1,\n",
              "         2: 17,\n",
              "         3: 654,\n",
              "         4: 3784,\n",
              "         5: 8789,\n",
              "         6: 8738,\n",
              "         7: 4883,\n",
              "         8: 1969,\n",
              "         9: 690,\n",
              "         10: 243,\n",
              "         11: 102,\n",
              "         12: 61,\n",
              "         13: 26,\n",
              "         14: 15,\n",
              "         15: 8,\n",
              "         16: 7,\n",
              "         17: 3,\n",
              "         18: 3,\n",
              "         19: 2,\n",
              "         20: 1,\n",
              "         22: 1,\n",
              "         23: 1,\n",
              "         24: 1,\n",
              "         28: 1})"
            ]
          },
          "metadata": {
            "tags": []
          },
          "execution_count": 6
        }
      ]
    },
    {
      "cell_type": "code",
      "metadata": {
        "id": "9OzK84Ox4zQe",
        "colab_type": "code",
        "outputId": "74267e77-2186-4fbf-a5bc-5d6ba7c4ef24",
        "colab": {
          "base_uri": "https://localhost:8080/",
          "height": 34
        }
      },
      "source": [
        "def listToStr(s):\n",
        "   s= ' '.join([str(elem) for elem in s]) \n",
        "   return s\n",
        "\n",
        "str_train=[listToStr(s) for s in train_data]\n",
        "\n",
        "sequence_train =\" \".join(str_train).split()\n",
        "\n",
        "word_list=list(set(sequence_train))\n",
        "\n",
        "word_dict = {w: i for i, w in enumerate(word_list)}\n",
        "\n",
        "# Calculate max word length for later adding pad\n",
        "word_length_list = [len(w) for w in word_list]\n",
        "max_word_len=max(word_length_list)\n",
        "voc_size = len(word_list)\n",
        "print('voc_size is:',voc_size)"
      ],
      "execution_count": 9,
      "outputs": [
        {
          "output_type": "stream",
          "text": [
            "voc_size is: 6899\n"
          ],
          "name": "stdout"
        }
      ]
    },
    {
      "cell_type": "code",
      "metadata": {
        "id": "x3Z2JjmD8xZ_",
        "colab_type": "code",
        "outputId": "bed6514d-d19a-4e12-fc5d-5d75068bdd27",
        "colab": {
          "base_uri": "https://localhost:8080/",
          "height": 286
        }
      },
      "source": [
        "# This function would count word appearance\n",
        "def count_fre(data):\n",
        "  cnt={}\n",
        "  for s in data:\n",
        "    for w in s:\n",
        "        try:\n",
        "          cnt[w]+=1 \n",
        "        except:\n",
        "          cnt[w]=1\n",
        "  return cnt\n",
        "\n",
        "\n",
        "\n",
        "# Calculate 50,000 text words appearance\n",
        "fre_list=count_fre(train_data)\n",
        "fre=[]\n",
        "for i in fre_list.keys():\n",
        "  fre.append(fre_list[i])\n",
        "\n",
        "\n",
        "\n",
        "# Plot histogram, X axis is appearance rate\n",
        "# Y axis is the percent of words with this appearance rate in whole word list\n",
        "plt.hist(fre, bins=5000, weights= [1./ len(fre)] * len(fre))\n",
        "plt.axis([0, 7000, 0, 0.003])\n",
        "\n",
        "\n",
        "\n",
        "# Calculate the quantity of words more than threshold appearance rate\n",
        "def fre_percent(fre,thresh):\n",
        "  cnt_thresh=0\n",
        "  for i in fre:\n",
        "    if i>thresh:\n",
        "      cnt_thresh+=1\n",
        "  return cnt_thresh\n",
        "\n",
        "thresh=1000\n",
        "print('There are %d words with frequency higher than %d.' %(fre_percent(fre,thresh),thresh,))\n",
        "\n",
        "\n",
        "\n",
        "# Remove all the words lower than 1500 apearance.\n",
        "# def remove_HF_word(data):\n",
        "#   removed=[]\n",
        "#   for s in data:\n",
        "#     s=[w for w in s if fre_list[w]>1500]\n",
        "#     removed.append(s)\n",
        "#   return removed\n",
        "\n",
        "# remove_HF_train=remove_HF_word(remove_long_word_train)\n",
        "# remove_HF_test=remove_HF_word(remove_long_word_test)"
      ],
      "execution_count": 10,
      "outputs": [
        {
          "output_type": "stream",
          "text": [
            "There are 26 words with frequency higher than 1000.\n"
          ],
          "name": "stdout"
        },
        {
          "output_type": "display_data",
          "data": {
            "image/png": "[encoded data removed]",
            "text/plain": [
              "<Figure size 432x288 with 1 Axes>"
            ]
          },
          "metadata": {
            "tags": [],
            "needs_background": "light"
          }
        }
      ]
    },
    {
      "cell_type": "code",
      "metadata": {
        "id": "fnqr10Dq-P3N",
        "colab_type": "code",
        "colab": {}
      },
      "source": [
        "fre_list"
      ],
      "execution_count": 0,
      "outputs": []
    },
    {
      "cell_type": "code",
      "metadata": {
        "id": "vdAb3ilPuNfO",
        "colab_type": "code",
        "colab": {}
      },
      "source": [
        "from sklearn.feature_extraction.text import TfidfVectorizer\n",
        "tfidf_vectorizer = TfidfVectorizer(max_df=0.8, max_features=10000)\n",
        "\n",
        "cpt_tfidf = tfidf_vectorizer.fit_transform(str_train)\n",
        "# xval_tfidf = tfidf_vectorizer.transform(xval)\n"
      ],
      "execution_count": 0,
      "outputs": []
    },
    {
      "cell_type": "code",
      "metadata": {
        "id": "B6IT3cSoxRT8",
        "colab_type": "code",
        "colab": {
          "base_uri": "https://localhost:8080/",
          "height": 84
        },
        "outputId": "2f9c37a8-3806-40b7-cc14-9572bde683d6"
      },
      "source": [
        "cpt_train, cpt_val, lab_train, lab_val = train_test_split(cpt_tfidf, y, test_size=0.2, random_state=9)\n",
        "print(cpt_train.shape)\n",
        "print(cpt_val.shape)\n",
        "print(lab_train.shape)\n",
        "print(lab_val.shape)"
      ],
      "execution_count": 43,
      "outputs": [
        {
          "output_type": "stream",
          "text": [
            "(24000, 6885)\n",
            "(6000, 6885)\n",
            "(24000, 18)\n",
            "(6000, 18)\n"
          ],
          "name": "stdout"
        }
      ]
    },
    {
      "cell_type": "code",
      "metadata": {
        "id": "iPsH69olvHqS",
        "colab_type": "code",
        "colab": {
          "base_uri": "https://localhost:8080/",
          "height": 370
        },
        "outputId": "adfd8c73-6a0a-4d96-95e5-f16b56514666"
      },
      "source": [
        "from sklearn.linear_model import LogisticRegression\n",
        "\n",
        "# Binary Relevance\n",
        "from sklearn.multiclass import OneVsRestClassifier\n",
        "\n",
        "# Performance metric\n",
        "from sklearn.metrics import f1_score\n",
        "\n",
        "lr = LogisticRegression()\n",
        "clf = OneVsRestClassifier(lr)\n",
        "\n",
        "# fit model on train data\n",
        "clf.fit(cpt_train, lab_train)\n",
        "\n",
        "# make predictions for validation set\n",
        "cpt_val_pred = clf.predict(cpt_val)\n",
        "\n",
        "# evaluate performance\n",
        "from sklearn.metrics import fbeta_score\n",
        "print('Overall F1-Score(samples): ',fbeta_score(lab_val, cpt_val_pred,beta=1, average='samples'))\n",
        "\n",
        "cpt_f1=fbeta_score(lab_val, cpt_val_pred,beta=1, average=None)\n",
        "count_label=[int(i) for i in ' '.join(labels).split()]\n",
        "label_dic=list(set(count_label))\n",
        "print('\\nLabel   F1-score')\n",
        "for i in range(len(label_dic)):\n",
        "  print(' ',label_dic[i],' '*4,round(cpt_f1[i],4))\n",
        "\n",
        "\n"
      ],
      "execution_count": 72,
      "outputs": [
        {
          "output_type": "stream",
          "text": [
            "Overall F1-Score(samples):  0.8378978835978835\n",
            "\n",
            "Label   F1-score\n",
            "  1      0.9347\n",
            "  2      0.4848\n",
            "  3      0.4405\n",
            "  4      0.7122\n",
            "  5      0.9037\n",
            "  6      0.7675\n",
            "  7      0.8698\n",
            "  8      0.4737\n",
            "  9      0.6686\n",
            "  10      0.4306\n",
            "  11      0.7302\n",
            "  13      0.6162\n",
            "  14      0.6753\n",
            "  15      0.5037\n",
            "  16      0.6375\n",
            "  17      0.9062\n",
            "  18      0.8482\n",
            "  19      0.9107\n"
          ],
          "name": "stdout"
        }
      ]
    }
  ]
}